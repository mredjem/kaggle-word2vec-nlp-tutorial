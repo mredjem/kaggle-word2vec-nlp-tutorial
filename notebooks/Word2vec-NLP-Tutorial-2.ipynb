{
 "cells": [
  {
   "cell_type": "code",
   "execution_count": 1,
   "metadata": {},
   "outputs": [],
   "source": [
    "import numpy as np"
   ]
  },
  {
   "cell_type": "code",
   "execution_count": 2,
   "metadata": {},
   "outputs": [
    {
     "data": {
      "text/plain": [
       "74998"
      ]
     },
     "execution_count": 2,
     "metadata": {},
     "output_type": "execute_result"
    }
   ],
   "source": [
    "X_train_transformed = np.load('../data/cleanedTrainData.npy')\n",
    "X_extra_train_transformed = np.load('../data/cleanedExtraTrainData.npy')\n",
    "X_train = np.concatenate([X_train_transformed, X_extra_train_transformed])\n",
    "\n",
    "len(X_train)"
   ]
  },
  {
   "cell_type": "code",
   "execution_count": 3,
   "metadata": {},
   "outputs": [],
   "source": [
    "import re\n",
    "\n",
    "def clean(corpus):\n",
    "    transformed = []\n",
    "    for document in corpus:\n",
    "        document = re.sub('\\\\\\|\\.|\"', '', document)\n",
    "        document = ' '.join([x for x in document.split(' ') if len(x) > 2])\n",
    "        transformed.append(document)\n",
    "    return transformed"
   ]
  },
  {
   "cell_type": "code",
   "execution_count": 4,
   "metadata": {
    "scrolled": false
   },
   "outputs": [
    {
     "data": {
      "text/plain": [
       "'\\\\the classic war worlds\\\\ timothy hines entertaining film obviously go great effort length faithfully recreate h. g. wells classic book mr. hines succeed watch film appreciate fact standard predictable hollywood fare come year e.g. spielberg version tom cruise slight resemblance book obviously look different thing movie envision amateur \\\\\"critics\\\\ look criticize rate movie important basis like entertain people agree \\\\\"critics\\\\ enjoy effort mr. hines faithful h.g. wells classic novel find entertaining easy overlook \\\\\"critics\\\\ perceive shortcoming'"
      ]
     },
     "execution_count": 4,
     "metadata": {},
     "output_type": "execute_result"
    }
   ],
   "source": [
    "X_train[1]"
   ]
  },
  {
   "cell_type": "code",
   "execution_count": 5,
   "metadata": {
    "scrolled": true
   },
   "outputs": [
    {
     "data": {
      "text/plain": [
       "['the classic war worlds timothy hines entertaining film obviously great effort length faithfully recreate wells classic book hines succeed watch film appreciate fact standard predictable hollywood fare come year spielberg version tom cruise slight resemblance book obviously look different thing movie envision amateur critics look criticize rate movie important basis like entertain people agree critics enjoy effort hines faithful wells classic novel find entertaining easy overlook critics perceive shortcoming']"
      ]
     },
     "execution_count": 5,
     "metadata": {},
     "output_type": "execute_result"
    }
   ],
   "source": [
    "clean([X_train[1]])"
   ]
  },
  {
   "cell_type": "code",
   "execution_count": 6,
   "metadata": {},
   "outputs": [
    {
     "data": {
      "text/plain": [
       "74998"
      ]
     },
     "execution_count": 6,
     "metadata": {},
     "output_type": "execute_result"
    }
   ],
   "source": [
    "X_train = clean(X_train)\n",
    "len(X_train)"
   ]
  },
  {
   "cell_type": "code",
   "execution_count": 7,
   "metadata": {},
   "outputs": [],
   "source": [
    "def split_sentences(corpus):\n",
    "    sentences = []\n",
    "    for document in corpus:\n",
    "        words = document.split()\n",
    "        sentences.append(words)\n",
    "    return sentences"
   ]
  },
  {
   "cell_type": "code",
   "execution_count": 8,
   "metadata": {},
   "outputs": [
    {
     "data": {
      "text/plain": [
       "170"
      ]
     },
     "execution_count": 8,
     "metadata": {},
     "output_type": "execute_result"
    }
   ],
   "source": [
    "sentences = split_sentences(X_train)\n",
    "len(sentences[0])"
   ]
  },
  {
   "cell_type": "code",
   "execution_count": 9,
   "metadata": {},
   "outputs": [],
   "source": [
    "dim_size = 300\n",
    "max_distance = 10\n",
    "min_frequency = 40\n",
    "down_sampling = 1e-3"
   ]
  },
  {
   "cell_type": "code",
   "execution_count": 10,
   "metadata": {},
   "outputs": [],
   "source": [
    "from gensim.models import Word2Vec\n",
    "\n",
    "word2vec = Word2Vec(\n",
    "    sentences=sentences,\n",
    "    size=dim_size,\n",
    "    window=max_distance,\n",
    "    min_count=min_frequency,\n",
    "    sample=down_sampling,\n",
    "    workers=4\n",
    ")\n",
    "\n",
    "word2vec.init_sims(replace=True)"
   ]
  },
  {
   "cell_type": "code",
   "execution_count": 11,
   "metadata": {},
   "outputs": [
    {
     "data": {
      "text/plain": [
       "(13354, 300)"
      ]
     },
     "execution_count": 11,
     "metadata": {},
     "output_type": "execute_result"
    }
   ],
   "source": [
    "word2vec.wv.vectors.shape"
   ]
  },
  {
   "cell_type": "code",
   "execution_count": 12,
   "metadata": {
    "scrolled": true
   },
   "outputs": [
    {
     "data": {
      "text/plain": [
       "[('anthony', 0.800419270992279),\n",
       " ('gosling', 0.7770460247993469),\n",
       " ('miriam', 0.7453286647796631),\n",
       " ('quinn', 0.7100683450698853),\n",
       " ('perkins', 0.6624230742454529),\n",
       " ('mcdormand', 0.6492488384246826),\n",
       " ('raymond', 0.6442375779151917),\n",
       " ('alan', 0.640479326248169),\n",
       " ('gielgud', 0.6371688842773438),\n",
       " ('forsythe', 0.6353374719619751)]"
      ]
     },
     "execution_count": 12,
     "metadata": {},
     "output_type": "execute_result"
    }
   ],
   "source": [
    "word2vec.wv.most_similar('hopkins')"
   ]
  },
  {
   "cell_type": "code",
   "execution_count": 13,
   "metadata": {},
   "outputs": [],
   "source": [
    "def doc_to_vec(document):\n",
    "    vectors = []\n",
    "    words = document.split()\n",
    "    for word in words:\n",
    "        if word in word2vec.wv:\n",
    "            vectors.append(word2vec.wv[word])\n",
    "    return np.array(vectors)"
   ]
  },
  {
   "cell_type": "code",
   "execution_count": 14,
   "metadata": {},
   "outputs": [
    {
     "data": {
      "text/plain": [
       "'film disappoint acting atrocious unbelievable actor story incredibly obvious group independent actor stage passion play turn start live life character play watch lot movie lately thank netflix watch way long time feel need end know end story modernization gospels sacrilegious enlightening speak raise christian church say raise live increasingly christian culture curious jesus modernization religion well bad see mel gibson version guess like like conservative wish well film lot review praise arcand direction especially cinematography like film prudish preachy believe character personae involve screen life play play dated think carry weight real time production point need work strong development character plot support philosophical theological question film like musical choice obvious unoriginal example come easily mind firstly reenactment parable jesus drive money lender temple lead actor fall woman play magdalene model dancer enrage debase audition commercial wicked producer plenty pant man audience pant trash place chase guess level film wish reach romance entirely arbitrary emotionally realize scene play like high school rendering death salesman stop hit head high handed significance relationship female lead priest ask play eventually turn betray nowadays corrupt church sleep guy bring pleasure little pain saintly whore lovable old coot arcand signify worth trouble enrich enliven character motion reach eject button feel free write bored jade interested feel free watch movie passion beauty sadness inspiration deliver amateurish gimmicky charade feel free preconceived idea affirm shred artistic integrity forsake monotonous drivel warn'"
      ]
     },
     "execution_count": 14,
     "metadata": {},
     "output_type": "execute_result"
    }
   ],
   "source": [
    "random_idx = np.random.randint(low=0, high=len(X_train_transformed) - 1)\n",
    "random_review = X_train[random_idx]\n",
    "random_review"
   ]
  },
  {
   "cell_type": "code",
   "execution_count": 15,
   "metadata": {},
   "outputs": [],
   "source": [
    "def classify_review(review, debug=False):\n",
    "    review_vec = np.sum(doc_to_vec(review), axis=0) / len(review)\n",
    "\n",
    "    pos_corr = np.dot(word2vec.wv['good'], review_vec)\n",
    "    neg_corr = np.dot(word2vec.wv['bad'],  review_vec)\n",
    "    \n",
    "    if debug == True:\n",
    "        print('Positive = {:.3f} / Negative = {:.3f}'.format(pos_corr, neg_corr))\n",
    "    \n",
    "    if pos_corr > neg_corr:\n",
    "        return 1\n",
    "    else:\n",
    "        return 0"
   ]
  },
  {
   "cell_type": "code",
   "execution_count": 16,
   "metadata": {},
   "outputs": [
    {
     "name": "stdout",
     "output_type": "stream",
     "text": [
      "Positive = 0.009 / Negative = 0.010\n",
      ":/\n"
     ]
    }
   ],
   "source": [
    "if classify_review(random_review, debug=True) == 1:\n",
    "    print(':)')\n",
    "else:\n",
    "    print(':/')"
   ]
  },
  {
   "cell_type": "code",
   "execution_count": 17,
   "metadata": {},
   "outputs": [],
   "source": [
    "import pandas as pd\n",
    "train_csv = pd.read_csv('../data/labeledTrainData.tsv', sep='\\t')"
   ]
  },
  {
   "cell_type": "code",
   "execution_count": 18,
   "metadata": {},
   "outputs": [
    {
     "data": {
      "text/plain": [
       "25000"
      ]
     },
     "execution_count": 18,
     "metadata": {},
     "output_type": "execute_result"
    }
   ],
   "source": [
    "y_train = train_csv['sentiment'].astype(np.int)\n",
    "len(y_train)"
   ]
  },
  {
   "cell_type": "code",
   "execution_count": 19,
   "metadata": {},
   "outputs": [
    {
     "data": {
      "text/plain": [
       "25000"
      ]
     },
     "execution_count": 19,
     "metadata": {},
     "output_type": "execute_result"
    }
   ],
   "source": [
    "y_pred = [classify_review(review) for review in X_train[:25000]]\n",
    "len(y_pred)"
   ]
  },
  {
   "cell_type": "code",
   "execution_count": 20,
   "metadata": {},
   "outputs": [
    {
     "data": {
      "text/plain": [
       "(0, 0)"
      ]
     },
     "execution_count": 20,
     "metadata": {},
     "output_type": "execute_result"
    }
   ],
   "source": [
    "y_train[random_idx], y_pred[random_idx]"
   ]
  },
  {
   "cell_type": "code",
   "execution_count": 21,
   "metadata": {},
   "outputs": [
    {
     "data": {
      "text/plain": [
       "0.77468"
      ]
     },
     "execution_count": 21,
     "metadata": {},
     "output_type": "execute_result"
    }
   ],
   "source": [
    "from sklearn.metrics import accuracy_score\n",
    "\n",
    "# gives only 78%, worse than plain bag of words\n",
    "accuracy_score(y_train, y_pred)"
   ]
  },
  {
   "cell_type": "code",
   "execution_count": 22,
   "metadata": {},
   "outputs": [
    {
     "name": "stdout",
     "output_type": "stream",
     "text": [
      "              precision    recall  f1-score   support\n",
      "\n",
      "           0       0.83      0.69      0.75     12500\n",
      "           1       0.73      0.86      0.79     12500\n",
      "\n",
      "    accuracy                           0.77     25000\n",
      "   macro avg       0.78      0.77      0.77     25000\n",
      "weighted avg       0.78      0.77      0.77     25000\n",
      "\n"
     ]
    }
   ],
   "source": [
    "from sklearn.metrics import classification_report\n",
    "print(classification_report(y_train, y_pred))"
   ]
  },
  {
   "cell_type": "code",
   "execution_count": 23,
   "metadata": {},
   "outputs": [
    {
     "data": {
      "text/plain": [
       "5633"
      ]
     },
     "execution_count": 23,
     "metadata": {},
     "output_type": "execute_result"
    }
   ],
   "source": [
    "y_mask = y_train != y_pred\n",
    "\n",
    "X_train_errors = np.array(X_train[:25000])\n",
    "X_train_errors = X_train_errors[y_mask == True]\n",
    "\n",
    "len(X_train_errors)"
   ]
  },
  {
   "cell_type": "code",
   "execution_count": 24,
   "metadata": {},
   "outputs": [
    {
     "data": {
      "text/plain": [
       "\"charming boy mother middle town cat death soon follow sum i'll admit little freak cat see movie seriousness spite numerous thing wrong film believe plenty overall enjoyable viewing experience character like caricature basis instinct rely fear greed pride lust anger motivate people argue fail actuality serve telling story supernatural premise fact stephen king screenplay(not specific king nicely support interesting work makeup suitable music absolute gem film doubt alice krige play mary brady otherworldly mother king manage simple story outsider people little different(okay lot case try fit twist campy little horror gem collection horror fan\""
      ]
     },
     "execution_count": 24,
     "metadata": {},
     "output_type": "execute_result"
    }
   ],
   "source": [
    "X_train_errors[10]"
   ]
  },
  {
   "cell_type": "code",
   "execution_count": 25,
   "metadata": {},
   "outputs": [
    {
     "name": "stdout",
     "output_type": "stream",
     "text": [
      "Positive = 0.010 / Negative = 0.005\n"
     ]
    },
    {
     "data": {
      "text/plain": [
       "1"
      ]
     },
     "execution_count": 25,
     "metadata": {},
     "output_type": "execute_result"
    }
   ],
   "source": [
    "classify_review(X_train_errors[10], debug=True)"
   ]
  },
  {
   "cell_type": "code",
   "execution_count": null,
   "metadata": {},
   "outputs": [],
   "source": []
  }
 ],
 "metadata": {
  "kernelspec": {
   "display_name": "Python 3",
   "language": "python",
   "name": "python3"
  },
  "language_info": {
   "codemirror_mode": {
    "name": "ipython",
    "version": 3
   },
   "file_extension": ".py",
   "mimetype": "text/x-python",
   "name": "python",
   "nbconvert_exporter": "python",
   "pygments_lexer": "ipython3",
   "version": "3.7.6"
  }
 },
 "nbformat": 4,
 "nbformat_minor": 4
}
